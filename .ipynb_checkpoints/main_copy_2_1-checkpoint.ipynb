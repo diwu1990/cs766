{
 "cells": [
  {
   "cell_type": "code",
   "execution_count": 1,
   "metadata": {},
   "outputs": [
    {
     "ename": "SyntaxError",
     "evalue": "invalid syntax (model_1.py, line 13)",
     "output_type": "error",
     "traceback": [
      "Traceback \u001b[0;36m(most recent call last)\u001b[0m:\n",
      "  File \u001b[1;32m\"/home/yuming/anaconda3/lib/python3.7/site-packages/IPython/core/interactiveshell.py\"\u001b[0m, line \u001b[1;32m2961\u001b[0m, in \u001b[1;35mrun_code\u001b[0m\n    exec(code_obj, self.user_global_ns, self.user_ns)\n",
      "\u001b[0;36m  File \u001b[0;32m\"<ipython-input-1-32aaad7b3030>\"\u001b[0;36m, line \u001b[0;32m7\u001b[0;36m, in \u001b[0;35m<module>\u001b[0;36m\u001b[0m\n\u001b[0;31m    import model_1 as md\u001b[0m\n",
      "\u001b[0;36m  File \u001b[0;32m\"/deepdata/adib/HEtoSHG/cs766/model_1.py\"\u001b[0;36m, line \u001b[0;32m13\u001b[0m\n\u001b[0;31m    nn.Conv2d(3, 64, (5, 5), (1, 1), (2, 2)),\u001b[0m\n\u001b[0m     ^\u001b[0m\n\u001b[0;31mSyntaxError\u001b[0m\u001b[0;31m:\u001b[0m invalid syntax\n"
     ]
    }
   ],
   "source": [
    "from __future__ import print_function, division\n",
    "import torch\n",
    "import torch\n",
    "import torch.nn as nn\n",
    "import torch.optim as optim\n",
    "import data as dt\n",
    "import model_1 as md\n",
    "import copy\n",
    "from pytorch_ssim import ssim\n",
    "from torch.utils.data import DataLoader"
   ]
  },
  {
   "cell_type": "code",
   "execution_count": null,
   "metadata": {},
   "outputs": [],
   "source": [
    "# print gpu\n",
    "torch.cuda.set_device(4)\n",
    "currentDevice = torch.cuda.current_device()\n",
    "print(\"Current GPU: \" + str(currentDevice))\n",
    "print(str(torch.cuda.device_count()))\n",
    "print(str(torch.cuda.get_device_capability(currentDevice)))\n",
    "print(torch.__version__)"
   ]
  },
  {
   "cell_type": "code",
   "execution_count": null,
   "metadata": {},
   "outputs": [],
   "source": [
    "USE_GPU = 1\n",
    "if USE_GPU and torch.cuda.is_available():\n",
    "    device = torch.device('cuda:4')\n",
    "else:\n",
    "    device = \"cpu\"\n",
    "print(device)"
   ]
  },
  {
   "cell_type": "code",
   "execution_count": null,
   "metadata": {
    "scrolled": true
   },
   "outputs": [],
   "source": [
    "# generate csv file, run only for the first time\n",
    "# dt.generate_csv()"
   ]
  },
  {
   "cell_type": "code",
   "execution_count": null,
   "metadata": {},
   "outputs": [],
   "source": [
    "csvFilePath = dt.get_csv_path()\n",
    "transformed_dataset = dt.HE_SHG_Dataset(csv_file=csvFilePath,\n",
    "                                               transform=dt.Compose([                                              \n",
    "                                               dt.Rescale(96),\n",
    "                                               dt.ToTensor(),\n",
    "                                               dt.Normalize([0.5,0.5,0.5],[0.5,0.5,0.5])                                           \n",
    "                                           ]))\n",
    "# TODO: change the normalization parameters"
   ]
  },
  {
   "cell_type": "code",
   "execution_count": null,
   "metadata": {},
   "outputs": [],
   "source": [
    "# batchsize 32->16\n",
    "dataloader = DataLoader(transformed_dataset, batch_size=100,\n",
    "                        shuffle=True, num_workers=0)"
   ]
  },
  {
   "cell_type": "code",
   "execution_count": null,
   "metadata": {
    "scrolled": false
   },
   "outputs": [],
   "source": [
    "# TODO: insert back mean and variance to plot the image appropriately\n",
    "dt.show_patch(dataloader) "
   ]
  },
  {
   "cell_type": "code",
   "execution_count": null,
   "metadata": {},
   "outputs": [],
   "source": [
    "print('===> Building model')\n",
    "model = md.Net().to(device)\n",
    "criterionMSE = nn.MSELoss()\n",
    "\n",
    "optimizer = optim.Adam(model.parameters(), lr=0.1)\n"
   ]
  },
  {
   "cell_type": "code",
   "execution_count": null,
   "metadata": {},
   "outputs": [],
   "source": [
    "def train(epoch):\n",
    "    epoch_loss = 0\n",
    "    for iteration, batch in enumerate(dataloader):\n",
    "        input, target = batch['input'].to(device), batch['output'].to(device)\n",
    "\n",
    "        optimizer.zero_grad()\n",
    "        output = model(input)\n",
    "        targetf = target.float()\n",
    "        targetf = targetf[:, None]\n",
    "        \n",
    "        lossMSE = criterionMSE(output, targetf)      \n",
    "        lossSSIM = -(ssim(output, targetf)-1)\n",
    "        \n",
    "        p = 0.25\n",
    "        loss = p*lossMSE + (1-p)*lossSSIM\n",
    "        combineLoss = p*lossMSE.item() + (1-p)*lossSSIM.item()\n",
    "        \n",
    "        epoch_loss = epoch_loss + combineLoss\n",
    "        loss.backward()\n",
    "        optimizer.step()\n",
    "    \n",
    "        if iteration%50 == 0:\n",
    "            print(\"lossMSE: \" + str(lossMSE.item()) +\n",
    "                  \" \" + \"lossSSIM: \" + str(lossSSIM.item()))\n",
    "            print(\"===> Epoch[{}]({}/{}): Loss: {:.4f}\".format(epoch, iteration, len(dataloader), loss.item()))\n",
    "\n",
    "    print(\"===> Epoch {} Complete: Avg. Loss: {:.4f}\".format(epoch, epoch_loss / len(dataloader)))\n"
   ]
  },
  {
   "cell_type": "code",
   "execution_count": null,
   "metadata": {},
   "outputs": [],
   "source": [
    "# def test():\n",
    "#     avg_psnr = 0\n",
    "#     with torch.no_grad():\n",
    "#         for batch in testing_data_loader:\n",
    "#             input, target = batch[0].to(device), batch[1].to(device)\n",
    "\n",
    "#             prediction = model(input)\n",
    "#             mse = criterion(prediction, target)\n",
    "#             psnr = 10 * log10(1 / mse.item())\n",
    "#             avg_psnr += psnr\n",
    "#     print(\"===> Avg. PSNR: {:.4f} dB\".format(avg_psnr / len(testing_data_loader)))\n"
   ]
  },
  {
   "cell_type": "code",
   "execution_count": null,
   "metadata": {},
   "outputs": [],
   "source": [
    "# def checkpoint(epoch):\n",
    "#     model_out_path = \"model_epoch_{}.pth\".format(epoch)\n",
    "#     torch.save(model, model_out_path)\n",
    "#     print(\"Checkpoint saved to {}\".format(model_out_path))"
   ]
  },
  {
   "cell_type": "code",
   "execution_count": null,
   "metadata": {
    "scrolled": true
   },
   "outputs": [],
   "source": [
    "for epoch in range(1, 10 + 1):\n",
    "    train(epoch)\n",
    "#     test()\n",
    "#     checkpoint(epoch)"
   ]
  },
  {
   "cell_type": "code",
   "execution_count": null,
   "metadata": {},
   "outputs": [],
   "source": [
    "import matplotlib.pyplot as plt\n",
    "from torchvision import transforms, utils\n",
    "def test():\n",
    "    avg_psnr = 0\n",
    "    with torch.no_grad():\n",
    "        for iteration, batch in enumerate(dataloader):\n",
    "            input, target = batch['input'].to(device), batch['output'].to(device)\n",
    "                \n",
    "            prediction = model(input)\n",
    "\n",
    "            target = target.float()\n",
    "\n",
    "            outdataloader = {'input':prediction,'output':target}\n",
    "            \n",
    "            print(outdataloader['input'].size(), \n",
    "                      outdataloader['output'].size())\n",
    "\n",
    "            plt.figure()\n",
    "            input_batch, label_batch = outdataloader['input'], outdataloader['output']\n",
    "            batch_size = 32\n",
    "            im_size = input_batch.size(2)\n",
    "            label_batch=label_batch.reshape([batch_size,1,im_size,im_size])\n",
    "            print(label_batch.size())\n",
    "            for img in input_batch:\n",
    "                for t, m, s in zip(img, [0.5, 0.5, 0.5], [0.5, 0.5, 0.5]):\n",
    "                    t.mul_(s).add_(m)\n",
    "                            \n",
    "            for img in label_batch:\n",
    "                for t, m, s in zip(img, [0.5, 0.5, 0.5], [0.5, 0.5, 0.5]):\n",
    "                    t.mul_(s).add_(m)                           \n",
    "\n",
    "            grid = utils.make_grid(input_batch).cpu()\n",
    "            plt.imshow(grid.numpy().transpose((1, 2, 0)))\n",
    "            plt.figure()\n",
    "\n",
    "            grid = utils.make_grid(label_batch).cpu()\n",
    "            plt.imshow(grid.numpy().transpose((1, 2, 0)))\n",
    "\n",
    "            plt.axis('off')\n",
    "            plt.ioff()\n",
    "            plt.show()\n",
    "            \n",
    "            targetf = target[:, None]\n",
    "            \n",
    "            lossMSE = criterionMSE(prediction, targetf)      \n",
    "            lossSSIM = -ssim(prediction, targetf)\n",
    "        \n",
    "            p = 0.25\n",
    "            loss = p*lossMSE + (1-p)*lossSSIM\n",
    "            combineLoss = p*lossMSE.item() + (1-p)*lossSSIM.item()\n",
    "#             mse = criterion(prediction, target.float())\n",
    "\n",
    "            psnr = 10 * torch.log10(1 / loss)\n",
    "            avg_psnr += psnr\n",
    "            if iteration == 16:\n",
    "                break\n",
    "    print(\"===> Avg. PSNR: {:.4f} dB\".format(avg_psnr / len(dataloader)))"
   ]
  },
  {
   "cell_type": "code",
   "execution_count": null,
   "metadata": {
    "scrolled": true
   },
   "outputs": [],
   "source": [
    "test()"
   ]
  },
  {
   "cell_type": "code",
   "execution_count": null,
   "metadata": {
    "scrolled": true
   },
   "outputs": [],
   "source": [
    "# restart\n",
    "for epoch in range(1, 5 + 1):\n",
    "    train(epoch)\n",
    "#     test()\n",
    "#     checkpoint(epoch)"
   ]
  },
  {
   "cell_type": "code",
   "execution_count": null,
   "metadata": {},
   "outputs": [],
   "source": []
  }
 ],
 "metadata": {
  "kernelspec": {
   "display_name": "Python 3",
   "language": "python",
   "name": "python3"
  },
  "language_info": {
   "codemirror_mode": {
    "name": "ipython",
    "version": 3
   },
   "file_extension": ".py",
   "mimetype": "text/x-python",
   "name": "python",
   "nbconvert_exporter": "python",
   "pygments_lexer": "ipython3",
   "version": "3.7.2"
  }
 },
 "nbformat": 4,
 "nbformat_minor": 2
}
